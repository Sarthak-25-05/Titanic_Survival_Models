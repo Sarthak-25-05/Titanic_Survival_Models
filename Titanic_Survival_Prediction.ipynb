{
 "cells": [
  {
   "cell_type": "code",
   "execution_count": 1,
   "id": "ab425e98-1f3b-41b4-8fe9-762b3051ff37",
   "metadata": {},
   "outputs": [],
   "source": [
    "# import basic  libraries required \n",
    "import pandas as pd\n",
    "import matplotlib.pyplot as plt\n",
    "import seaborn as sns\n",
    "import numpy as np"
   ]
  },
  {
   "cell_type": "code",
   "execution_count": 2,
   "id": "d2365812-abb7-42e0-b6ee-5dcd05e37577",
   "metadata": {},
   "outputs": [
    {
     "data": {
      "text/html": [
       "<div>\n",
       "<style scoped>\n",
       "    .dataframe tbody tr th:only-of-type {\n",
       "        vertical-align: middle;\n",
       "    }\n",
       "\n",
       "    .dataframe tbody tr th {\n",
       "        vertical-align: top;\n",
       "    }\n",
       "\n",
       "    .dataframe thead th {\n",
       "        text-align: right;\n",
       "    }\n",
       "</style>\n",
       "<table border=\"1\" class=\"dataframe\">\n",
       "  <thead>\n",
       "    <tr style=\"text-align: right;\">\n",
       "      <th></th>\n",
       "      <th>Survived</th>\n",
       "      <th>Pclass</th>\n",
       "      <th>Name</th>\n",
       "      <th>Sex</th>\n",
       "      <th>Age</th>\n",
       "      <th>SibSp</th>\n",
       "      <th>Parch</th>\n",
       "      <th>Ticket</th>\n",
       "      <th>Fare</th>\n",
       "      <th>Cabin</th>\n",
       "      <th>Embarked</th>\n",
       "    </tr>\n",
       "    <tr>\n",
       "      <th>PassengerId</th>\n",
       "      <th></th>\n",
       "      <th></th>\n",
       "      <th></th>\n",
       "      <th></th>\n",
       "      <th></th>\n",
       "      <th></th>\n",
       "      <th></th>\n",
       "      <th></th>\n",
       "      <th></th>\n",
       "      <th></th>\n",
       "      <th></th>\n",
       "    </tr>\n",
       "  </thead>\n",
       "  <tbody>\n",
       "    <tr>\n",
       "      <th>1</th>\n",
       "      <td>0</td>\n",
       "      <td>3</td>\n",
       "      <td>Braund, Mr. Owen Harris</td>\n",
       "      <td>male</td>\n",
       "      <td>22.0</td>\n",
       "      <td>1</td>\n",
       "      <td>0</td>\n",
       "      <td>A/5 21171</td>\n",
       "      <td>7.2500</td>\n",
       "      <td>NaN</td>\n",
       "      <td>S</td>\n",
       "    </tr>\n",
       "    <tr>\n",
       "      <th>2</th>\n",
       "      <td>1</td>\n",
       "      <td>1</td>\n",
       "      <td>Cumings, Mrs. John Bradley (Florence Briggs Th...</td>\n",
       "      <td>female</td>\n",
       "      <td>38.0</td>\n",
       "      <td>1</td>\n",
       "      <td>0</td>\n",
       "      <td>PC 17599</td>\n",
       "      <td>71.2833</td>\n",
       "      <td>C85</td>\n",
       "      <td>C</td>\n",
       "    </tr>\n",
       "    <tr>\n",
       "      <th>3</th>\n",
       "      <td>1</td>\n",
       "      <td>3</td>\n",
       "      <td>Heikkinen, Miss. Laina</td>\n",
       "      <td>female</td>\n",
       "      <td>26.0</td>\n",
       "      <td>0</td>\n",
       "      <td>0</td>\n",
       "      <td>STON/O2. 3101282</td>\n",
       "      <td>7.9250</td>\n",
       "      <td>NaN</td>\n",
       "      <td>S</td>\n",
       "    </tr>\n",
       "    <tr>\n",
       "      <th>4</th>\n",
       "      <td>1</td>\n",
       "      <td>1</td>\n",
       "      <td>Futrelle, Mrs. Jacques Heath (Lily May Peel)</td>\n",
       "      <td>female</td>\n",
       "      <td>35.0</td>\n",
       "      <td>1</td>\n",
       "      <td>0</td>\n",
       "      <td>113803</td>\n",
       "      <td>53.1000</td>\n",
       "      <td>C123</td>\n",
       "      <td>S</td>\n",
       "    </tr>\n",
       "    <tr>\n",
       "      <th>5</th>\n",
       "      <td>0</td>\n",
       "      <td>3</td>\n",
       "      <td>Allen, Mr. William Henry</td>\n",
       "      <td>male</td>\n",
       "      <td>35.0</td>\n",
       "      <td>0</td>\n",
       "      <td>0</td>\n",
       "      <td>373450</td>\n",
       "      <td>8.0500</td>\n",
       "      <td>NaN</td>\n",
       "      <td>S</td>\n",
       "    </tr>\n",
       "    <tr>\n",
       "      <th>...</th>\n",
       "      <td>...</td>\n",
       "      <td>...</td>\n",
       "      <td>...</td>\n",
       "      <td>...</td>\n",
       "      <td>...</td>\n",
       "      <td>...</td>\n",
       "      <td>...</td>\n",
       "      <td>...</td>\n",
       "      <td>...</td>\n",
       "      <td>...</td>\n",
       "      <td>...</td>\n",
       "    </tr>\n",
       "    <tr>\n",
       "      <th>887</th>\n",
       "      <td>0</td>\n",
       "      <td>2</td>\n",
       "      <td>Montvila, Rev. Juozas</td>\n",
       "      <td>male</td>\n",
       "      <td>27.0</td>\n",
       "      <td>0</td>\n",
       "      <td>0</td>\n",
       "      <td>211536</td>\n",
       "      <td>13.0000</td>\n",
       "      <td>NaN</td>\n",
       "      <td>S</td>\n",
       "    </tr>\n",
       "    <tr>\n",
       "      <th>888</th>\n",
       "      <td>1</td>\n",
       "      <td>1</td>\n",
       "      <td>Graham, Miss. Margaret Edith</td>\n",
       "      <td>female</td>\n",
       "      <td>19.0</td>\n",
       "      <td>0</td>\n",
       "      <td>0</td>\n",
       "      <td>112053</td>\n",
       "      <td>30.0000</td>\n",
       "      <td>B42</td>\n",
       "      <td>S</td>\n",
       "    </tr>\n",
       "    <tr>\n",
       "      <th>889</th>\n",
       "      <td>0</td>\n",
       "      <td>3</td>\n",
       "      <td>Johnston, Miss. Catherine Helen \"Carrie\"</td>\n",
       "      <td>female</td>\n",
       "      <td>NaN</td>\n",
       "      <td>1</td>\n",
       "      <td>2</td>\n",
       "      <td>W./C. 6607</td>\n",
       "      <td>23.4500</td>\n",
       "      <td>NaN</td>\n",
       "      <td>S</td>\n",
       "    </tr>\n",
       "    <tr>\n",
       "      <th>890</th>\n",
       "      <td>1</td>\n",
       "      <td>1</td>\n",
       "      <td>Behr, Mr. Karl Howell</td>\n",
       "      <td>male</td>\n",
       "      <td>26.0</td>\n",
       "      <td>0</td>\n",
       "      <td>0</td>\n",
       "      <td>111369</td>\n",
       "      <td>30.0000</td>\n",
       "      <td>C148</td>\n",
       "      <td>C</td>\n",
       "    </tr>\n",
       "    <tr>\n",
       "      <th>891</th>\n",
       "      <td>0</td>\n",
       "      <td>3</td>\n",
       "      <td>Dooley, Mr. Patrick</td>\n",
       "      <td>male</td>\n",
       "      <td>32.0</td>\n",
       "      <td>0</td>\n",
       "      <td>0</td>\n",
       "      <td>370376</td>\n",
       "      <td>7.7500</td>\n",
       "      <td>NaN</td>\n",
       "      <td>Q</td>\n",
       "    </tr>\n",
       "  </tbody>\n",
       "</table>\n",
       "<p>891 rows × 11 columns</p>\n",
       "</div>"
      ],
      "text/plain": [
       "             Survived  Pclass  \\\n",
       "PassengerId                     \n",
       "1                   0       3   \n",
       "2                   1       1   \n",
       "3                   1       3   \n",
       "4                   1       1   \n",
       "5                   0       3   \n",
       "...               ...     ...   \n",
       "887                 0       2   \n",
       "888                 1       1   \n",
       "889                 0       3   \n",
       "890                 1       1   \n",
       "891                 0       3   \n",
       "\n",
       "                                                          Name     Sex   Age  \\\n",
       "PassengerId                                                                    \n",
       "1                                      Braund, Mr. Owen Harris    male  22.0   \n",
       "2            Cumings, Mrs. John Bradley (Florence Briggs Th...  female  38.0   \n",
       "3                                       Heikkinen, Miss. Laina  female  26.0   \n",
       "4                 Futrelle, Mrs. Jacques Heath (Lily May Peel)  female  35.0   \n",
       "5                                     Allen, Mr. William Henry    male  35.0   \n",
       "...                                                        ...     ...   ...   \n",
       "887                                      Montvila, Rev. Juozas    male  27.0   \n",
       "888                               Graham, Miss. Margaret Edith  female  19.0   \n",
       "889                   Johnston, Miss. Catherine Helen \"Carrie\"  female   NaN   \n",
       "890                                      Behr, Mr. Karl Howell    male  26.0   \n",
       "891                                        Dooley, Mr. Patrick    male  32.0   \n",
       "\n",
       "             SibSp  Parch            Ticket     Fare Cabin Embarked  \n",
       "PassengerId                                                          \n",
       "1                1      0         A/5 21171   7.2500   NaN        S  \n",
       "2                1      0          PC 17599  71.2833   C85        C  \n",
       "3                0      0  STON/O2. 3101282   7.9250   NaN        S  \n",
       "4                1      0            113803  53.1000  C123        S  \n",
       "5                0      0            373450   8.0500   NaN        S  \n",
       "...            ...    ...               ...      ...   ...      ...  \n",
       "887              0      0            211536  13.0000   NaN        S  \n",
       "888              0      0            112053  30.0000   B42        S  \n",
       "889              1      2        W./C. 6607  23.4500   NaN        S  \n",
       "890              0      0            111369  30.0000  C148        C  \n",
       "891              0      0            370376   7.7500   NaN        Q  \n",
       "\n",
       "[891 rows x 11 columns]"
      ]
     },
     "execution_count": 2,
     "metadata": {},
     "output_type": "execute_result"
    }
   ],
   "source": [
    "# Load the dataset\n",
    "data = pd.read_csv(r\"D:\\course gfg\\Titanic-Dataset.csv\")\n",
    "data = data.set_index('PassengerId')\n",
    "data"
   ]
  },
  {
   "cell_type": "code",
   "execution_count": 3,
   "id": "86e8aa22-c073-46b6-a46a-17ef6280191f",
   "metadata": {},
   "outputs": [
    {
     "data": {
      "text/plain": [
       "Survived      0\n",
       "Pclass        0\n",
       "Name          0\n",
       "Sex           0\n",
       "Age         177\n",
       "SibSp         0\n",
       "Parch         0\n",
       "Ticket        0\n",
       "Fare          0\n",
       "Cabin       687\n",
       "Embarked      2\n",
       "dtype: int64"
      ]
     },
     "execution_count": 3,
     "metadata": {},
     "output_type": "execute_result"
    }
   ],
   "source": [
    "# Find the missing values \n",
    "data.isnull().sum()"
   ]
  },
  {
   "cell_type": "code",
   "execution_count": 4,
   "id": "8af11e4b-e998-4d24-b413-17a4446c4c95",
   "metadata": {},
   "outputs": [
    {
     "data": {
      "text/plain": [
       "0"
      ]
     },
     "execution_count": 4,
     "metadata": {},
     "output_type": "execute_result"
    }
   ],
   "source": [
    "#Fill Age missing values with median Age value\n",
    "median_val = data['Age'].median()\n",
    "data['Age'].fillna(median_val, inplace = True)\n",
    "data['Age'].isnull().sum()"
   ]
  },
  {
   "cell_type": "code",
   "execution_count": 5,
   "id": "3fcfaa52-ab01-4b26-ab56-2560174bb774",
   "metadata": {},
   "outputs": [
    {
     "data": {
      "text/html": [
       "<div>\n",
       "<style scoped>\n",
       "    .dataframe tbody tr th:only-of-type {\n",
       "        vertical-align: middle;\n",
       "    }\n",
       "\n",
       "    .dataframe tbody tr th {\n",
       "        vertical-align: top;\n",
       "    }\n",
       "\n",
       "    .dataframe thead th {\n",
       "        text-align: right;\n",
       "    }\n",
       "</style>\n",
       "<table border=\"1\" class=\"dataframe\">\n",
       "  <thead>\n",
       "    <tr style=\"text-align: right;\">\n",
       "      <th></th>\n",
       "      <th>Survived</th>\n",
       "      <th>Pclass</th>\n",
       "      <th>Name</th>\n",
       "      <th>Sex</th>\n",
       "      <th>Age</th>\n",
       "      <th>SibSp</th>\n",
       "      <th>Parch</th>\n",
       "      <th>Ticket</th>\n",
       "      <th>Fare</th>\n",
       "      <th>Embarked</th>\n",
       "    </tr>\n",
       "    <tr>\n",
       "      <th>PassengerId</th>\n",
       "      <th></th>\n",
       "      <th></th>\n",
       "      <th></th>\n",
       "      <th></th>\n",
       "      <th></th>\n",
       "      <th></th>\n",
       "      <th></th>\n",
       "      <th></th>\n",
       "      <th></th>\n",
       "      <th></th>\n",
       "    </tr>\n",
       "  </thead>\n",
       "  <tbody>\n",
       "    <tr>\n",
       "      <th>1</th>\n",
       "      <td>0</td>\n",
       "      <td>3</td>\n",
       "      <td>Braund, Mr. Owen Harris</td>\n",
       "      <td>male</td>\n",
       "      <td>22.0</td>\n",
       "      <td>1</td>\n",
       "      <td>0</td>\n",
       "      <td>A/5 21171</td>\n",
       "      <td>7.2500</td>\n",
       "      <td>S</td>\n",
       "    </tr>\n",
       "    <tr>\n",
       "      <th>2</th>\n",
       "      <td>1</td>\n",
       "      <td>1</td>\n",
       "      <td>Cumings, Mrs. John Bradley (Florence Briggs Th...</td>\n",
       "      <td>female</td>\n",
       "      <td>38.0</td>\n",
       "      <td>1</td>\n",
       "      <td>0</td>\n",
       "      <td>PC 17599</td>\n",
       "      <td>71.2833</td>\n",
       "      <td>C</td>\n",
       "    </tr>\n",
       "    <tr>\n",
       "      <th>3</th>\n",
       "      <td>1</td>\n",
       "      <td>3</td>\n",
       "      <td>Heikkinen, Miss. Laina</td>\n",
       "      <td>female</td>\n",
       "      <td>26.0</td>\n",
       "      <td>0</td>\n",
       "      <td>0</td>\n",
       "      <td>STON/O2. 3101282</td>\n",
       "      <td>7.9250</td>\n",
       "      <td>S</td>\n",
       "    </tr>\n",
       "    <tr>\n",
       "      <th>4</th>\n",
       "      <td>1</td>\n",
       "      <td>1</td>\n",
       "      <td>Futrelle, Mrs. Jacques Heath (Lily May Peel)</td>\n",
       "      <td>female</td>\n",
       "      <td>35.0</td>\n",
       "      <td>1</td>\n",
       "      <td>0</td>\n",
       "      <td>113803</td>\n",
       "      <td>53.1000</td>\n",
       "      <td>S</td>\n",
       "    </tr>\n",
       "    <tr>\n",
       "      <th>5</th>\n",
       "      <td>0</td>\n",
       "      <td>3</td>\n",
       "      <td>Allen, Mr. William Henry</td>\n",
       "      <td>male</td>\n",
       "      <td>35.0</td>\n",
       "      <td>0</td>\n",
       "      <td>0</td>\n",
       "      <td>373450</td>\n",
       "      <td>8.0500</td>\n",
       "      <td>S</td>\n",
       "    </tr>\n",
       "  </tbody>\n",
       "</table>\n",
       "</div>"
      ],
      "text/plain": [
       "             Survived  Pclass  \\\n",
       "PassengerId                     \n",
       "1                   0       3   \n",
       "2                   1       1   \n",
       "3                   1       3   \n",
       "4                   1       1   \n",
       "5                   0       3   \n",
       "\n",
       "                                                          Name     Sex   Age  \\\n",
       "PassengerId                                                                    \n",
       "1                                      Braund, Mr. Owen Harris    male  22.0   \n",
       "2            Cumings, Mrs. John Bradley (Florence Briggs Th...  female  38.0   \n",
       "3                                       Heikkinen, Miss. Laina  female  26.0   \n",
       "4                 Futrelle, Mrs. Jacques Heath (Lily May Peel)  female  35.0   \n",
       "5                                     Allen, Mr. William Henry    male  35.0   \n",
       "\n",
       "             SibSp  Parch            Ticket     Fare Embarked  \n",
       "PassengerId                                                    \n",
       "1                1      0         A/5 21171   7.2500        S  \n",
       "2                1      0          PC 17599  71.2833        C  \n",
       "3                0      0  STON/O2. 3101282   7.9250        S  \n",
       "4                1      0            113803  53.1000        S  \n",
       "5                0      0            373450   8.0500        S  "
      ]
     },
     "execution_count": 5,
     "metadata": {},
     "output_type": "execute_result"
    }
   ],
   "source": [
    "#cabin has more null values and doesn't really  help our predictions so let's drop it\n",
    "data = data.drop(columns=['Cabin'])\n",
    "data.head()"
   ]
  },
  {
   "cell_type": "code",
   "execution_count": 6,
   "id": "f77d51b3-21b1-4ad8-85f6-85a76ac798fc",
   "metadata": {},
   "outputs": [
    {
     "data": {
      "text/plain": [
       "array(['S', 'C', 'Q', nan], dtype=object)"
      ]
     },
     "execution_count": 6,
     "metadata": {},
     "output_type": "execute_result"
    }
   ],
   "source": [
    "data['Embarked'].unique()"
   ]
  },
  {
   "cell_type": "code",
   "execution_count": 7,
   "id": "ea9fb942-171d-4b3c-a277-548e516941f8",
   "metadata": {},
   "outputs": [
    {
     "data": {
      "text/plain": [
       "array(['S', 'C', 'Q'], dtype=object)"
      ]
     },
     "execution_count": 7,
     "metadata": {},
     "output_type": "execute_result"
    }
   ],
   "source": [
    "# filling missing embarked values with most frequent value\n",
    "data['Embarked'].fillna(data['Embarked'].mode()[0], inplace=True)\n",
    "data['Embarked'].unique()"
   ]
  },
  {
   "cell_type": "code",
   "execution_count": 8,
   "id": "0afde8ff-9176-4e66-89c8-6607f7cf38ae",
   "metadata": {},
   "outputs": [
    {
     "data": {
      "text/plain": [
       "Text(0.5, 1.0, 'Fare vs Survived')"
      ]
     },
     "execution_count": 8,
     "metadata": {},
     "output_type": "execute_result"
    },
    {
     "data": {
      "image/png": "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",
      "text/plain": [
       "<Figure size 1000x600 with 1 Axes>"
      ]
     },
     "metadata": {},
     "output_type": "display_data"
    }
   ],
   "source": [
    "plt.figure(figsize=(10,6))\n",
    "sns.boxplot( data, x = 'Fare', hue= 'Survived')\n",
    "plt.title(\"Fare vs Survived\")"
   ]
  },
  {
   "cell_type": "code",
   "execution_count": 78,
   "id": "e368875e-6d4e-47c1-8114-520677fa1d74",
   "metadata": {},
   "outputs": [
    {
     "data": {
      "text/html": [
       "<div>\n",
       "<style scoped>\n",
       "    .dataframe tbody tr th:only-of-type {\n",
       "        vertical-align: middle;\n",
       "    }\n",
       "\n",
       "    .dataframe tbody tr th {\n",
       "        vertical-align: top;\n",
       "    }\n",
       "\n",
       "    .dataframe thead th {\n",
       "        text-align: right;\n",
       "    }\n",
       "</style>\n",
       "<table border=\"1\" class=\"dataframe\">\n",
       "  <thead>\n",
       "    <tr style=\"text-align: right;\">\n",
       "      <th></th>\n",
       "      <th>Survived</th>\n",
       "      <th>Pclass</th>\n",
       "      <th>Name</th>\n",
       "      <th>Sex</th>\n",
       "      <th>Age</th>\n",
       "      <th>SibSp</th>\n",
       "      <th>Parch</th>\n",
       "      <th>Ticket</th>\n",
       "      <th>Fare</th>\n",
       "      <th>Embarked</th>\n",
       "    </tr>\n",
       "    <tr>\n",
       "      <th>PassengerId</th>\n",
       "      <th></th>\n",
       "      <th></th>\n",
       "      <th></th>\n",
       "      <th></th>\n",
       "      <th></th>\n",
       "      <th></th>\n",
       "      <th></th>\n",
       "      <th></th>\n",
       "      <th></th>\n",
       "      <th></th>\n",
       "    </tr>\n",
       "  </thead>\n",
       "  <tbody>\n",
       "    <tr>\n",
       "      <th>1</th>\n",
       "      <td>0</td>\n",
       "      <td>3</td>\n",
       "      <td>Braund, Mr. Owen Harris</td>\n",
       "      <td>1</td>\n",
       "      <td>22.0</td>\n",
       "      <td>1</td>\n",
       "      <td>0</td>\n",
       "      <td>A/5 21171</td>\n",
       "      <td>0.758322</td>\n",
       "      <td>2</td>\n",
       "    </tr>\n",
       "    <tr>\n",
       "      <th>2</th>\n",
       "      <td>1</td>\n",
       "      <td>1</td>\n",
       "      <td>Cumings, Mrs. John Bradley (Florence Briggs Th...</td>\n",
       "      <td>0</td>\n",
       "      <td>38.0</td>\n",
       "      <td>1</td>\n",
       "      <td>0</td>\n",
       "      <td>PC 17599</td>\n",
       "      <td>0.979843</td>\n",
       "      <td>0</td>\n",
       "    </tr>\n",
       "    <tr>\n",
       "      <th>3</th>\n",
       "      <td>1</td>\n",
       "      <td>3</td>\n",
       "      <td>Heikkinen, Miss. Laina</td>\n",
       "      <td>0</td>\n",
       "      <td>26.0</td>\n",
       "      <td>0</td>\n",
       "      <td>0</td>\n",
       "      <td>STON/O2. 3101282</td>\n",
       "      <td>0.769952</td>\n",
       "      <td>2</td>\n",
       "    </tr>\n",
       "    <tr>\n",
       "      <th>4</th>\n",
       "      <td>1</td>\n",
       "      <td>1</td>\n",
       "      <td>Futrelle, Mrs. Jacques Heath (Lily May Peel)</td>\n",
       "      <td>0</td>\n",
       "      <td>35.0</td>\n",
       "      <td>1</td>\n",
       "      <td>0</td>\n",
       "      <td>113803</td>\n",
       "      <td>0.958431</td>\n",
       "      <td>2</td>\n",
       "    </tr>\n",
       "    <tr>\n",
       "      <th>5</th>\n",
       "      <td>0</td>\n",
       "      <td>3</td>\n",
       "      <td>Allen, Mr. William Henry</td>\n",
       "      <td>1</td>\n",
       "      <td>35.0</td>\n",
       "      <td>0</td>\n",
       "      <td>0</td>\n",
       "      <td>373450</td>\n",
       "      <td>0.771965</td>\n",
       "      <td>2</td>\n",
       "    </tr>\n",
       "  </tbody>\n",
       "</table>\n",
       "</div>"
      ],
      "text/plain": [
       "             Survived  Pclass  \\\n",
       "PassengerId                     \n",
       "1                   0       3   \n",
       "2                   1       1   \n",
       "3                   1       3   \n",
       "4                   1       1   \n",
       "5                   0       3   \n",
       "\n",
       "                                                          Name Sex   Age  \\\n",
       "PassengerId                                                                \n",
       "1                                      Braund, Mr. Owen Harris   1  22.0   \n",
       "2            Cumings, Mrs. John Bradley (Florence Briggs Th...   0  38.0   \n",
       "3                                       Heikkinen, Miss. Laina   0  26.0   \n",
       "4                 Futrelle, Mrs. Jacques Heath (Lily May Peel)   0  35.0   \n",
       "5                                     Allen, Mr. William Henry   1  35.0   \n",
       "\n",
       "             SibSp  Parch            Ticket      Fare Embarked  \n",
       "PassengerId                                                     \n",
       "1                1      0         A/5 21171  0.758322        2  \n",
       "2                1      0          PC 17599  0.979843        0  \n",
       "3                0      0  STON/O2. 3101282  0.769952        2  \n",
       "4                1      0            113803  0.958431        2  \n",
       "5                0      0            373450  0.771965        2  "
      ]
     },
     "execution_count": 78,
     "metadata": {},
     "output_type": "execute_result"
    }
   ],
   "source": [
    "#Convert Sex[\"male\", \"Female\"] into suitable numerical data for machine learning\n",
    "# Embarked columns have characters, convert them into numerical values(suitable for machine )\n",
    "from sklearn.preprocessing import LabelEncoder\n",
    "le = LabelEncoder()\n",
    "data.loc[:,'Embarked'] = le.fit_transform(data['Embarked'])\n",
    "\n",
    "data.loc[:,'Sex'] = le.fit_transform(data['Sex'])  # converts male inot 1 and other (female) into 0\n",
    "data.head()"
   ]
  },
  {
   "cell_type": "code",
   "execution_count": 79,
   "id": "57d4accc-2cea-46ef-9cc3-6f506846a12f",
   "metadata": {},
   "outputs": [
    {
     "data": {
      "image/png": "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",
      "text/plain": [
       "<Figure size 1000x600 with 1 Axes>"
      ]
     },
     "metadata": {},
     "output_type": "display_data"
    },
    {
     "name": "stderr",
     "output_type": "stream",
     "text": [
      "C:\\Users\\SAKSHI\\anaconda3\\Lib\\site-packages\\seaborn\\_oldcore.py:1119: FutureWarning: use_inf_as_na option is deprecated and will be removed in a future version. Convert inf values to NaN before operating instead.\n",
      "  with pd.option_context('mode.use_inf_as_na', True):\n"
     ]
    },
    {
     "data": {
      "image/png": "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",
      "text/plain": [
       "<Figure size 1000x600 with 1 Axes>"
      ]
     },
     "metadata": {},
     "output_type": "display_data"
    },
    {
     "data": {
      "image/png": "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",
      "text/plain": [
       "<Figure size 1000x600 with 1 Axes>"
      ]
     },
     "metadata": {},
     "output_type": "display_data"
    },
    {
     "data": {
      "image/png": "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",
      "text/plain": [
       "<Figure size 1000x600 with 1 Axes>"
      ]
     },
     "metadata": {},
     "output_type": "display_data"
    },
    {
     "data": {
      "image/png": "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",
      "text/plain": [
       "<Figure size 640x480 with 1 Axes>"
      ]
     },
     "metadata": {},
     "output_type": "display_data"
    },
    {
     "data": {
      "image/png": "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",
      "text/plain": [
       "<Figure size 640x480 with 1 Axes>"
      ]
     },
     "metadata": {},
     "output_type": "display_data"
    },
    {
     "data": {
      "image/png": "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",
      "text/plain": [
       "<Figure size 640x480 with 1 Axes>"
      ]
     },
     "metadata": {},
     "output_type": "display_data"
    }
   ],
   "source": [
    "''' Now we have cleaned data  suitable for prediction\n",
    "Pick the best features for predicting the survival probability'''\n",
    "\n",
    "\n",
    "plt.figure(figsize=(10,6))\n",
    "sns.barplot(data, x='Pclass', y='Survived')\n",
    "plt.title('Pclass X Survived')\n",
    "plt.show()\n",
    "\n",
    "plt.figure(figsize=(10,6))\n",
    "sns.histplot(data, x='Age', hue = 'Survived')\n",
    "plt.title('Age X Survived')\n",
    "plt.show()\n",
    "\n",
    "plt.figure(figsize=(10,6))\n",
    "sns.boxplot(data, x='Fare', hue = 'Survived')\n",
    "plt.title('Fare X Survived')\n",
    "plt.show()\n",
    "\n",
    "plt.figure(figsize=(10,6))\n",
    "sns.barplot(data, x='Embarked', y='Survived')\n",
    "plt.title('Embarked X Survived')\n",
    "plt.show()\n",
    "\n",
    "sns.barplot(x=\"Sex\", y=\"Survived\", data=data)\n",
    "plt.title('Sex X Survived')\n",
    "plt.show()\n",
    "\n",
    "sns.barplot(x=\"SibSp\", y=\"Survived\", data=data)\n",
    "plt.title('SibSp X Survived')\n",
    "plt.show()\n",
    "\n",
    "sns.barplot(x=\"Parch\", y=\"Survived\", data=data)\n",
    "plt.title('Parch X Survived')\n",
    "plt.show()"
   ]
  },
  {
   "cell_type": "code",
   "execution_count": 11,
   "id": "57f962d0-497d-45fd-ab89-48def85fafb2",
   "metadata": {},
   "outputs": [],
   "source": [
    "# select the features that affects most for survival rate\n",
    "features = ['Pclass','Sex','Age','SibSp','Parch','Fare','Embarked']\n",
    "X = data[features]                #features\n",
    "Y = data['Survived']              #Label"
   ]
  },
  {
   "cell_type": "code",
   "execution_count": 12,
   "id": "bf2a58ca-d944-48f5-a0e3-9f2c54f4d788",
   "metadata": {},
   "outputs": [
    {
     "name": "stdout",
     "output_type": "stream",
     "text": [
      "Accuracy:  0.8156424581005587\n",
      "Confusion_Matrix [[89 16]\n",
      " [17 57]]\n",
      "Classification_Report               precision    recall  f1-score   support\n",
      "\n",
      "           0       0.84      0.85      0.84       105\n",
      "           1       0.78      0.77      0.78        74\n",
      "\n",
      "    accuracy                           0.82       179\n",
      "   macro avg       0.81      0.81      0.81       179\n",
      "weighted avg       0.82      0.82      0.82       179\n",
      "\n"
     ]
    }
   ],
   "source": [
    "# import machine learning models(for prediction) and metrics(for performance )\n",
    "from sklearn.model_selection import train_test_split\n",
    "from sklearn.ensemble import RandomForestClassifier\n",
    "from sklearn.preprocessing import StandardScaler\n",
    "from sklearn.metrics import accuracy_score, confusion_matrix, classification_report\n",
    "\n",
    "\n",
    "# Split data into traing dataset and test dataset\n",
    "X_train, X_test, Y_train, Y_test = train_test_split(X, Y, test_size=0.2, random_state = 42)\n",
    "\n",
    "#let's Normalize numerical data of training dataset using StandStandardScaler\n",
    "# Always remember to fit only training data and transform both training and test data\n",
    "scaler = StandardScaler()\n",
    "X_train[['Age', 'Fare']] = scaler.fit_transform(X_train[['Age', 'Fare']])\n",
    "X_test[['Age','Fare']] = scaler.transform(X_test[['Age','Fare']])\n",
    "\n",
    "\n",
    "model = RandomForestClassifier(n_estimators=100)\n",
    "model.fit(X_train, Y_train)\n",
    "\n",
    "y_pred_R = model.predict(X_test)\n",
    "RandomForest_acc = accuracy_score(Y_test, y_pred_R)\n",
    "print(\"Accuracy: \", RandomForest_acc)\n",
    "print(\"Confusion_Matrix\", confusion_matrix(Y_test, y_pred_R))\n",
    "print(\"Classification_Report\", classification_report(Y_test, y_pred_R))"
   ]
  },
  {
   "cell_type": "code",
   "execution_count": 13,
   "id": "1253e522-3f4d-4185-b10f-2f519c6626e3",
   "metadata": {},
   "outputs": [
    {
     "data": {
      "text/plain": [
       "<Axes: xlabel='Feature', ylabel='Importance'>"
      ]
     },
     "execution_count": 13,
     "metadata": {},
     "output_type": "execute_result"
    },
    {
     "data": {
      "image/png": "iVBORw0KGgoAAAANSUhEUgAAAkAAAAGwCAYAAABB4NqyAAAAOXRFWHRTb2Z0d2FyZQBNYXRwbG90bGliIHZlcnNpb24zLjguMCwgaHR0cHM6Ly9tYXRwbG90bGliLm9yZy81sbWrAAAACXBIWXMAAA9hAAAPYQGoP6dpAAA6I0lEQVR4nO3deVyU5f7/8feAMAMomEuoibjkmpoKJcvRFhPTMjtl0qnjUmh5sMxo5VCuJdlJJS2XNklLwzK1+lpGmmlqeiQoS/NrZeExOIQbLokC1+8Pf863EXAZgQHv1/PxmMeDue7rvuZz3d4Ob+77nntsxhgjAAAAC/HydAEAAABVjQAEAAAshwAEAAAshwAEAAAshwAEAAAshwAEAAAshwAEAAAsp5anC6iOSkpK9Ntvv6lOnTqy2WyeLgcAAJwDY4wOHTqkJk2ayMvrzMd4CEBl+O233xQSEuLpMgAAgBt2796tpk2bnrEPAagMderUkXRyAwYGBnq4GgAAcC4KCgoUEhLi/D1+JgSgMpw67RUYGEgAAgCghjmXy1e4CBoAAFgOAQgAAFgOAQgAAFgOAQgAAFgOAQgAAFgOAQgAAFgOAQgAAFgOAQgAAFgOAQgAAFgOAQgAAFgOAQgAAFgOAQgAAFgOAQgAAFgOAQgAAFgOAQgAAFhOLU8XgItL9sROni6h0jUbu9XTJQAALhBHgAAAgOVwBAgAUCM9+/eBni6hUiW99Z6nS7iocQQIAABYDgEIAABYDgEIAABYDgEIAABYDgEIAABYDgEIAABYDgEIAABYDgEIAABYDgEIAABYDgEIAABYDgEIAABYDgEIAABYDgEIAABYDgEIAABYDgEIAABYDgEIAABYDgEIAABYDgEIAABYDgEIAABYDgEIAABYDgEIAABYDgEIAABYDgEIAABYDgEIAABYDgEIAABYjscD0KxZs9SiRQs5HA6FhYVp3bp15fZ9//331bt3bzVs2FCBgYGKjIzUypUrXfqkpqbKZrOVehw7dqyypwIAAGqIWp588bS0NI0ZM0azZs1SdHS05s6dq759+2rbtm1q1qxZqf5r165V7969NXnyZNWtW1fz5s1T//79tWnTJnXt2tXZLzAwUDt27HBZ1+FwVPp8gDOJnhnt6RIq3foH13u6BAA4Jx4NQNOmTVNcXJyGDx8uSUpJSdHKlSs1e/ZsJScnl+qfkpLi8nzy5Mlavny5PvzwQ5cAZLPZ1KhRo3Ouo7CwUIWFhc7nBQUF5zkTAABQk3jsFNjx48eVkZGhmJgYl/aYmBht2LDhnMYoKSnRoUOHVK9ePZf2w4cPKzQ0VE2bNtXNN9+szMzMM46TnJysoKAg5yMkJOT8JgMAAGoUjwWg/Px8FRcXKzg42KU9ODhYubm55zTG1KlTdeTIEQ0aNMjZ1q5dO6WmpuqDDz7QokWL5HA4FB0drZ07d5Y7TmJiog4ePOh87N69271JAQCAGsGjp8Ckk6er/swYU6qtLIsWLdL48eO1fPlyXXrppc72iIgIRUREOJ9HR0erW7dumjlzpmbMmFHmWHa7XXa73c0ZAACAmsZjAahBgwby9vYudbQnLy+v1FGh06WlpSkuLk7vvvuubrjhhjP29fLy0lVXXXXGI0AAAMBaPHYKzNfXV2FhYUpPT3dpT09PV1RUVLnrLVq0SMOGDdPChQt10003nfV1jDHKyspS48aNL7hmAABwcfDoKbCEhAQNHjxY4eHhioyM1CuvvKLs7GyNHDlS0slrc/bs2aP58+dLOhl+hgwZohdffFERERHOo0d+fn4KCgqSJE2YMEERERFq3bq1CgoKNGPGDGVlZenll1/2zCQBAEC149EAFBsbq71792rixInKyclRx44dtWLFCoWGhkqScnJylJ2d7ew/d+5cFRUVadSoURo1apSzfejQoUpNTZUkHThwQPfdd59yc3MVFBSkrl27au3atbr66qurdG4AAKD68vhF0PHx8YqPjy9z2alQc8qaNWvOOt706dM1ffr0CqgMAABcrDz+VRgAAABVjQAEAAAshwAEAAAshwAEAAAshwAEAAAshwAEAAAshwAEAAAshwAEAAAshwAEAAAshwAEAAAshwAEAAAshwAEAAAshwAEAAAshwAEAAAshwAEAAAshwAEAAAshwAEAAAshwAEAAAshwAEAAAshwAEAAAshwAEAAAshwAEAAAshwAEAAAshwAEAAAshwAEAAAshwAEAAAshwAEAAAshwAEAAAshwAEAAAshwAEAAAshwAEAAAshwAEAAAshwAEAAAshwAEAAAshwAEAAAshwAEAAAshwAEAAAshwAEAAAshwAEAAAshwAEAAAshwAEAAAshwAEAAAshwAEAAAshwAEAAAshwAEAAAshwAEAAAshwAEAAAshwAEAAAshwAEAAAshwAEAAAshwAEAAAshwAEAAAshwAEAAAsx+MBaNasWWrRooUcDofCwsK0bt26cvu+//776t27txo2bKjAwEBFRkZq5cqVpfotWbJEHTp0kN1uV4cOHbR06dLKnAIAAKhhPBqA0tLSNGbMGCUlJSkzM1M9evRQ3759lZ2dXWb/tWvXqnfv3lqxYoUyMjJ03XXXqX///srMzHT22bhxo2JjYzV48GB98803Gjx4sAYNGqRNmzZV1bQAAEA1ZzPGGE+9ePfu3dWtWzfNnj3b2da+fXvdeuutSk5OPqcxrrjiCsXGxmrs2LGSpNjYWBUUFOjjjz929rnxxht1ySWXaNGiRWWOUVhYqMLCQufzgoIChYSE6ODBgwoMDHRnapaVPbGTp0uodM3GbnVrveiZ0RVcSfWz/sH1ni4BFvLs3wd6uoRKlfTWe54uocYpKChQUFDQOf3+9tgRoOPHjysjI0MxMTEu7TExMdqwYcM5jVFSUqJDhw6pXr16zraNGzeWGrNPnz5nHDM5OVlBQUHOR0hIyHnMBAAA1DQeC0D5+fkqLi5WcHCwS3twcLByc3PPaYypU6fqyJEjGjRokLMtNzf3vMdMTEzUwYMHnY/du3efx0wAAEBNU8vTBdhsNpfnxphSbWVZtGiRxo8fr+XLl+vSSy+9oDHtdrvsdvt5VA0AAGoyjwWgBg0ayNvbu9SRmby8vFJHcE6XlpamuLg4vfvuu7rhhhtcljVq1MitMQEAgHV47BSYr6+vwsLClJ6e7tKenp6uqKioctdbtGiRhg0bpoULF+qmm24qtTwyMrLUmJ9++ukZxwQAANbi0VNgCQkJGjx4sMLDwxUZGalXXnlF2dnZGjlypKST1+bs2bNH8+fPl3Qy/AwZMkQvvviiIiIinEd6/Pz8FBQUJEl66KGH1LNnT02ZMkUDBgzQ8uXL9dlnn+nLL7/0zCQBAEC149H7AMXGxiolJUUTJ05Uly5dtHbtWq1YsUKhoaGSpJycHJd7As2dO1dFRUUaNWqUGjdu7Hw89NBDzj5RUVF65513NG/ePHXu3FmpqalKS0tT9+7dq3x+AACgevL4RdDx8fGKj48vc1lqaqrL8zVr1pzTmAMHDtTAgRf3/SEAAID7PP5VGAAAAFWNAAQAACyHAAQAACyHAAQAACyHAAQAACyHAAQAACyHAAQAACyHAAQAACyHAAQAACyHAAQAACyHAAQAACyHAAQAACyHAAQAACyHAAQAACyHAAQAACyHAAQAACyHAAQAACyHAAQAACyHAAQAACyHAAQAACyHAAQAACyHAAQAACyHAAQAACyHAAQAACyHAAQAACyHAAQAACyHAAQAACyHAAQAACyHAAQAACzH7QC0YMECRUdHq0mTJvr1118lSSkpKVq+fHmFFQcAAFAZ3ApAs2fPVkJCgvr166cDBw6ouLhYklS3bl2lpKRUZH0AAAAVzq0ANHPmTL366qtKSkqSt7e3sz08PFxbt26tsOIAAAAqg1sBaNeuXeratWupdrvdriNHjlxwUQAAAJXJrQDUokULZWVllWr/+OOP1aFDhwutCQAAoFLVcmelxx57TKNGjdKxY8dkjNHmzZu1aNEiJScn67XXXqvoGgEAACqUWwHonnvuUVFRkR5//HEdPXpUd911ly677DK9+OKLuvPOOyu6RgAAgArlVgCSpBEjRmjEiBHKz89XSUmJLr300oqsCwAAoNK4FYB27dqloqIitW7dWg0aNHC279y5Uz4+PmrevHlF1QcAAFDh3LoIetiwYdqwYUOp9k2bNmnYsGEXWhMAAEClcisAZWZmKjo6ulR7REREmZ8OAwAAqE7cCkA2m02HDh0q1X7w4EHnXaEBAACqK7cCUI8ePZScnOwSdoqLi5WcnKy//OUvFVYcAABAZXDrIujnn39ePXv2VNu2bdWjRw9J0rp161RQUKDVq1dXaIEAAAAVza0jQB06dNC3336rQYMGKS8vT4cOHdKQIUP0ww8/qGPHjhVdIwAAQIVy+z5ATZo00eTJkyuyFgAAgCrhdgA6cOCANm/erLy8PJWUlLgsGzJkyAUXBgAAUFncCkAffvih7r77bh05ckR16tSRzWZzLrPZbAQgAABQrbl1DdAjjzyie++9V4cOHdKBAwe0f/9+52Pfvn0VXSMAAECFcisA7dmzR6NHj5a/v39F1wMAAFDp3ApAffr00ZYtWyq6FgAAgCrh1jVAN910kx577DFt27ZNnTp1ko+Pj8vyW265pUKKAwAAqAxuBaARI0ZIkiZOnFhqmc1m4+swAABAteZWADr9Y+8AAAA1iVvXAFWkWbNmqUWLFnI4HAoLC9O6devK7ZuTk6O77rpLbdu2lZeXl8aMGVOqT2pqqmw2W6nHsWPHKnEWAACgJnH7RohHjhzRF198oezsbB0/ftxl2ejRo89pjLS0NI0ZM0azZs1SdHS05s6dq759+2rbtm1q1qxZqf6FhYVq2LChkpKSNH369HLHDQwM1I4dO1zaHA7HOdUEAAAufm4FoMzMTPXr109Hjx7VkSNHVK9ePeXn58vf31+XXnrpOQegadOmKS4uTsOHD5ckpaSkaOXKlZo9e7aSk5NL9W/evLlefPFFSdIbb7xR7rg2m02NGjU65/kUFhaqsLDQ+bygoOCc1wUAADWPW6fAHn74YfXv31/79u2Tn5+fvvrqK/36668KCwvTCy+8cE5jHD9+XBkZGYqJiXFpj4mJ0YYNG9wpy+nw4cMKDQ1V06ZNdfPNNyszM/OM/ZOTkxUUFOR8hISEXNDrAwCA6s2tAJSVlaVHHnlE3t7e8vb2VmFhoUJCQvT888/rn//85zmNkZ+fr+LiYgUHB7u0BwcHKzc3152yJEnt2rVTamqqPvjgAy1atEgOh0PR0dHauXNnueskJibq4MGDzsfu3bvdfn0AAFD9uXUKzMfHx/n9X8HBwcrOzlb79u0VFBSk7Ozs8xrrz98jJknGmFJt5yMiIkIRERHO59HR0erWrZtmzpypGTNmlLmO3W6X3W53+zUBAEDN4lYA6tq1q7Zs2aI2bdrouuuu09ixY5Wfn68FCxaoU6dO5zRGgwYN5O3tXepoT15eXqmjQhfCy8tLV1111RmPAAEAAGtx6xTY5MmT1bhxY0nSpEmTVL9+ff3jH/9QXl6e5s6de05j+Pr6KiwsTOnp6S7t6enpioqKcqesMhljlJWV5awXAADArSNA4eHhzp8bNmyoFStWuPXiCQkJGjx4sMLDwxUZGalXXnlF2dnZGjlypKST1+bs2bNH8+fPd66TlZUl6eSFzr///ruysrLk6+urDh06SJImTJigiIgItW7dWgUFBZoxY4aysrL08ssvu1UjAAC4+LgVgK6//nq9//77qlu3rkt7QUGBbr31Vq1evfqcxomNjdXevXs1ceJE5eTkqGPHjlqxYoVCQ0Mlnbzx4enXFHXt2tX5c0ZGhhYuXKjQ0FD98ssvkqQDBw7ovvvuU25uroKCgtS1a1etXbtWV199tTtTBQAAFyG3AtCaNWtK3fxQko4dO3bGOzmXJT4+XvHx8WUuS01NLdVmjDnjeNOnTz/jTRIBAADOKwB9++23zp+3bdvmcgFzcXGxPvnkE1122WUVVx0AAEAlOK8A1KVLF+d3a11//fWllvv5+WnmzJkVVhwAAEBlOK8AtGvXLhlj1LJlS23evFkNGzZ0LvP19dWll14qb2/vCi8SAACgIp1XAAoNDdWJEyc0ZMgQ1atXz3mxMgAAQE1y3vcB8vHx0fLlyyujFgAAgCrh1o0Qb731Vi1btqyCSwEAAKgabn0M/vLLL9ekSZO0YcMGhYWFKSAgwGX56NGjK6Q4AACAyuBWAHrttddUt25dZWRkKCMjw2WZzWYjAAEAgGrNrQC0a9euiq4DAACgyrh1DdCfGWPOendmAACA6sTtADR//nx16tRJfn5+8vPzU+fOnbVgwYKKrA0AAKBSuHUKbNq0aXr66af1wAMPKDo6WsYYrV+/XiNHjlR+fr4efvjhiq4TAACgwrgVgGbOnKnZs2dryJAhzrYBAwboiiuu0Pjx4wlAAACgWnPrFFhOTo6ioqJKtUdFRSknJ+eCiwIAAKhMbgWgyy+/XIsXLy7VnpaWptatW19wUQAAAJXJrVNgEyZMUGxsrNauXavo6GjZbDZ9+eWXWrVqVZnBCAAAoDpx6wjQ7bffrk2bNqlBgwZatmyZ3n//fTVo0ECbN2/WX//614quEQAAoEK5dQRIksLCwvTWW29VZC0AAABVwu0AVFxcrKVLl2r79u2y2Wxq3769BgwYoFq13B4SAACgSriVVr777jsNGDBAubm5atu2rSTpf//3f9WwYUN98MEH6tSpU4UWCQAAUJHcugZo+PDhuuKKK/Sf//xHX3/9tb7++mvt3r1bnTt31n333VfRNQIAAFQot44AffPNN9qyZYsuueQSZ9sll1yiZ599VldddVWFFQcAAFAZ3DoC1LZtW/33v/8t1Z6Xl6fLL7/8gosCAACoTG4FoMmTJ2v06NF677339J///Ef/+c9/9N5772nMmDGaMmWKCgoKnA8AAIDqxq1TYDfffLMkadCgQbLZbJIkY4wkqX///s7nNptNxcXFFVEnAABAhXErAH3++ecVXQcAAECVcSsAXXPNNRVdBwAAQJVx+66Fx44d07fffqu8vDyVlJS4LLvlllsuuDAAAIDK4lYA+uSTTzRkyBDl5+eXWsZ1PwAAoLpz61NgDzzwgO644w7l5OSopKTE5UH4AQAA1Z1bASgvL08JCQkKDg6u6HoAAAAqnVsBaODAgVqzZk0FlwIAAFA13LoG6KWXXtIdd9yhdevWqVOnTvLx8XFZPnr06AopDgAAoDK4FYAWLlyolStXys/PT2vWrHHeDFE6eRE0AQgAAFRnbgWgp556ShMnTtSTTz4pLy+3zqIBAAB4jFvp5fjx44qNjSX8AACAGsmtBDN06FClpaVVdC0AAABVwq1TYMXFxXr++ee1cuVKde7cudRF0NOmTauQ4gAAACqDWwFo69at6tq1qyTpu+++q9CCAAAAKhvfBg8AACznvALQbbfddtY+NptNS5YscbsgAACAynZeASgoKKiy6gAAAKgy5xWA5s2bV1l1AAAAVBlu5AMAACyHAAQAACyHAAQAACyHAAQAACyHAAQAACyHAAQAACyHAAQAACyHAAQAACyHAAQAACyHAAQAACzH4wFo1qxZatGihRwOh8LCwrRu3bpy++bk5Oiuu+5S27Zt5eXlpTFjxpTZb8mSJerQoYPsdrs6dOigpUuXVlL1AACgJvJoAEpLS9OYMWOUlJSkzMxM9ejRQ3379lV2dnaZ/QsLC9WwYUMlJSXpyiuvLLPPxo0bFRsbq8GDB+ubb77R4MGDNWjQIG3atKkypwIAAGoQjwagadOmKS4uTsOHD1f79u2VkpKikJAQzZ49u8z+zZs314svvqghQ4aU+830KSkp6t27txITE9WuXTslJiaqV69eSklJqcSZAACAmsRjAej48ePKyMhQTEyMS3tMTIw2bNjg9rgbN24sNWafPn3OOGZhYaEKCgpcHgAA4OLlsQCUn5+v4uJiBQcHu7QHBwcrNzfX7XFzc3PPe8zk5GQFBQU5HyEhIW6/PgAAqP48fhG0zWZzeW6MKdVW2WMmJibq4MGDzsfu3bsv6PUBAED1VstTL9ygQQN5e3uXOjKTl5dX6gjO+WjUqNF5j2m322W3291+TQAAULN47AiQr6+vwsLClJ6e7tKenp6uqKgot8eNjIwsNeann356QWMCAICLi8eOAElSQkKCBg8erPDwcEVGRuqVV15Rdna2Ro4cKenkqak9e/Zo/vz5znWysrIkSYcPH9bvv/+urKws+fr6qkOHDpKkhx56SD179tSUKVM0YMAALV++XJ999pm+/PLLKp8fAAConjwagGJjY7V3715NnDhROTk56tixo1asWKHQ0FBJJ298ePo9gbp27er8OSMjQwsXLlRoaKh++eUXSVJUVJTeeecdPfXUU3r66afVqlUrpaWlqXv37lU2LwAAUL15NABJUnx8vOLj48tclpqaWqrNGHPWMQcOHKiBAwdeaGkAAOAi5fFPgQEAAFQ1AhAAALAcAhAAALAcAhAAALAcAhAAALAcAhAAALAcAhAAALAcAhAAALAcAhAAALAcAhAAALAcAhAAALAcAhAAALAcAhAAALAcAhAAALAcAhAAALAcAhAAALAcAhAAALAcAhAAALAcAhAAALCcWp4uoCYKe2y+p0uodBn/GuLpEgAAqDQcAQIAAJZDAAIAAJZDAAIAAJZDAAIAAJZDAAIAAJZDAAIAAJZDAAIAAJZDAAIAAJZDAAIAAJZDAAIAAJZDAAIAAJZDAAIAAJZDAAIAAJZDAAIAAJZDAAIAAJZDAAIAAJZDAAIAAJZDAAIAAJZDAAIAAJZDAAIAAJZDAAIAAJZDAAIAAJZDAAIAAJZDAAIAAJZDAAIAAJZDAAIAAJZDAAIAAJZDAAIAAJZDAAIAAJZDAAIAAJZDAAIAAJZDAAIAAJZDAAIAAJbj8QA0a9YstWjRQg6HQ2FhYVq3bt0Z+3/xxRcKCwuTw+FQy5YtNWfOHJflqampstlspR7Hjh2rzGkAAIAaxKMBKC0tTWPGjFFSUpIyMzPVo0cP9e3bV9nZ2WX237Vrl/r166cePXooMzNT//znPzV69GgtWbLEpV9gYKBycnJcHg6HoyqmBAAAaoBannzxadOmKS4uTsOHD5ckpaSkaOXKlZo9e7aSk5NL9Z8zZ46aNWumlJQUSVL79u21ZcsWvfDCC7r99tud/Ww2mxo1alQlcwAAADWPx44AHT9+XBkZGYqJiXFpj4mJ0YYNG8pcZ+PGjaX69+nTR1u2bNGJEyecbYcPH1ZoaKiaNm2qm2++WZmZmWespbCwUAUFBS4PAABw8fJYAMrPz1dxcbGCg4Nd2oODg5Wbm1vmOrm5uWX2LyoqUn5+viSpXbt2Sk1N1QcffKBFixbJ4XAoOjpaO3fuLLeW5ORkBQUFOR8hISEXODsAAFCdefQUmHTydNWfGWNKtZ2t/5/bIyIiFBER4VweHR2tbt26aebMmZoxY0aZYyYmJiohIcH5vKCggBAEVKEvel7j6RIq3TVrv/B0CQD+xGMBqEGDBvL29i51tCcvL6/UUZ5TGjVqVGb/WrVqqX79+mWu4+XlpauuuuqMR4Dsdrvsdvt5zgAAANRUHjsF5uvrq7CwMKWnp7u0p6enKyoqqsx1IiMjS/X/9NNPFR4eLh8fnzLXMcYoKytLjRs3rpjCAQBAjefRj8EnJCTotdde0xtvvKHt27fr4YcfVnZ2tkaOHCnp5KmpIUOGOPuPHDlSv/76qxISErR9+3a98cYbev311/Xoo486+0yYMEErV67Uzz//rKysLMXFxSkrK8s5JgAAgEevAYqNjdXevXs1ceJE5eTkqGPHjlqxYoVCQ0MlSTk5OS73BGrRooVWrFihhx9+WC+//LKaNGmiGTNmuHwE/sCBA7rvvvuUm5uroKAgde3aVWvXrtXVV19d5fMDAADVk8cvgo6Pj1d8fHyZy1JTU0u1XXPNNfr666/LHW/69OmaPn16RZUHAAAuQh7/KgwAAICqRgACAACWQwACAACWQwACAACWQwACAACWQwACAACWQwACAACW4/H7AAEAyvfSIx96uoRK9cDU/p4uARbFESAAAGA5BCAAAGA5BCAAAGA5BCAAAGA5BCAAAGA5BCAAAGA5fAweAICLzPZnV3u6hErVPun6Cx6DI0AAAMByCEAAAMByCEAAAMByCEAAAMByCEAAAMByCEAAAMByCEAAAMByCEAAAMByCEAAAMByCEAAAMByCEAAAMByCEAAAMByCEAAAMByCEAAAMByCEAAAMByCEAAAMByCEAAAMByCEAAAMByCEAAAMByCEAAAMByCEAAAMByCEAAAMByCEAAAMByCEAAAMByCEAAAMByCEAAAMByCEAAAMByCEAAAMByCEAAAMByCEAAAMByCEAAAMByCEAAAMByCEAAAMByCEAAAMByCEAAAMByCEAAAMByCEAAAMByCEAAAMByPB6AZs2apRYtWsjhcCgsLEzr1q07Y/8vvvhCYWFhcjgcatmypebMmVOqz5IlS9ShQwfZ7XZ16NBBS5curazyAQBADeTRAJSWlqYxY8YoKSlJmZmZ6tGjh/r27avs7Owy++/atUv9+vVTjx49lJmZqX/+858aPXq0lixZ4uyzceNGxcbGavDgwfrmm280ePBgDRo0SJs2baqqaQEAgGrOowFo2rRpiouL0/Dhw9W+fXulpKQoJCREs2fPLrP/nDlz1KxZM6WkpKh9+/YaPny47r33Xr3wwgvOPikpKerdu7cSExPVrl07JSYmqlevXkpJSamiWQEAgOqulqde+Pjx48rIyNCTTz7p0h4TE6MNGzaUuc7GjRsVExPj0tanTx+9/vrrOnHihHx8fLRx40Y9/PDDpfqcKQAVFhaqsLDQ+fzgwYOSpIKCgjL7Fxf+Ue5YF4vy5n42h44VV3Al1Y+726boj6IKrqT6cXfbHCli25Tnj8KjFVxJ9eLudpGkYydOVGAl1c+FbJvDx45UYCXVT3nb5lS7MeasY3gsAOXn56u4uFjBwcEu7cHBwcrNzS1zndzc3DL7FxUVKT8/X40bNy63T3ljSlJycrImTJhQqj0kJORcp3PRCZo50tMlVF/JQZ6uoNoKeoJtU64gtk1ZHn/Z0xVUX88sZp8p1zNnXnzo0CEFneX/nMcC0Ck2m83luTGmVNvZ+p/efr5jJiYmKiEhwfm8pKRE+/btU/369c+4XlUpKChQSEiIdu/ercDAQE+XU62wbcrGdikf26Z8bJvysW3KV522jTFGhw4dUpMmTc7a12MBqEGDBvL29i51ZCYvL6/UEZxTGjVqVGb/WrVqqX79+mfsU96YkmS322W3213a6tate65TqTKBgYEe37mqK7ZN2dgu5WPblI9tUz62Tfmqy7Y525GfUzx2EbSvr6/CwsKUnp7u0p6enq6oqKgy14mMjCzV/9NPP1V4eLh8fHzO2Ke8MQEAgPV49BRYQkKCBg8erPDwcEVGRuqVV15Rdna2Ro48ef1JYmKi9uzZo/nz50uSRo4cqZdeekkJCQkaMWKENm7cqNdff12LFi1yjvnQQw+pZ8+emjJligYMGKDly5frs88+05dffumROQIAgOrHowEoNjZWe/fu1cSJE5WTk6OOHTtqxYoVCg0NlSTl5OS43BOoRYsWWrFihR5++GG9/PLLatKkiWbMmKHbb7/d2ScqKkrvvPOOnnrqKT399NNq1aqV0tLS1L179yqfX0Wx2+0aN25cqdN0YNuUh+1SPrZN+dg25WPblK+mbhubOZfPigEAAFxEPP5VGAAAAFWNAAQAACyHAAQAACyHAFQNDRs2TLfeequnywBqJJvNpmXLlkmSfvnlF9lsNmVlZXm0posR2/biNX78eHXp0qVSxl6zZo1sNpsOHDhQYWO6uy8SgCrJsGHDZLPZZLPZ5OPjo5YtW+rRRx/VkSMX9/ezVJS8vDzdf//9atasmex2uxo1aqQ+ffpo48aNni7N4zZs2CBvb2/deOONni7FI862b+Tk5Khv377nNeaSJUvUvXt3BQUFqU6dOrriiiv0yCOPVEb5lYb3nPPz5+3158ePP/7o6dLOS3nzsOr7w/nw+FdhXMxuvPFGzZs3TydOnNC6des0fPhwHTlypNxvu8f/uf3223XixAm9+eabatmypf773/9q1apV2rdvn6dL87g33nhDDz74oF577TVlZ2erWbNmni6pSp1t32jUqNF5jffZZ5/pzjvv1OTJk3XLLbfIZrNp27ZtWrVqVWWUX6kq6j3HGKPi4mLVqnVx/4o4tb3+rGHDhuc1RnFxsWw2m7y8PHc8oax5VMePpJ+obl9ea1Aphg4dagYMGODSNnz4cNOoUSNjjDHfffed6devn6lTp46pXbu2+ctf/mJ+/PHHMtf9+OOPTXR0tAkKCjL16tUzN910k7OvMcYUFhaaUaNGmUaNGhm73W5CQ0PN5MmTncvHjRtnQkJCjK+vr2ncuLF58MEHK2/iFWD//v1GklmzZk25fQ4cOGBGjBhhGjZsaOrUqWOuu+46k5WVZYwxJi8vzwQHB5tnn33W2f+rr74yPj4+ZuXKlZVef2U6fPiwqVOnjvnhhx9MbGysmTBhgsvy5cuXm8svv9w4HA5z7bXXmtTUVCPJ7N+/39ln/fr1pkePHsbhcJimTZuaBx980Bw+fLiKZ+Kec9k3JJmlS5caY4zZtWuXkWQWLVpkIiMjjd1uNx06dDCff/65s/9DDz1krr322jO+7rhx48yVV15p5syZY5o2bWr8/PzMwIEDXbarp53pPWfBggUmLCzM1K5d2wQHB5u//e1v5r///a+z3+eff24kmU8++cSEhYUZHx8fs3r1alNcXGyee+4506pVK+Pr62tCQkLMM888Y4z5v227ZMkSc+211xo/Pz/TuXNns2HDhqqcttvK2l7GGDN16lTTsWNH4+/vb5o2bWr+8Y9/mEOHDjmXz5s3zwQFBZkPP/zQtG/f3nh7e5uff/7ZFBYWmscee8w0adLE+Pv7m6uvvtplP6vqeZwiycyZM8fcdNNNxs/Pz7Rr185s2LDB7Ny501xzzTXG39/fREREuPxOOZf9ffPmzeaGG24w9evXN4GBgaZnz54mIyOj1GvPnj3b3HLLLcbf39+MHTvWua+dGuvo0aOmX79+pnv37mbv3r3GGGPeeOMN065dO2O3203btm3Nyy+/7DLupk2bTJcuXYzdbjdhYWHm/fffN5JMZmbmeW07ToFVIT8/P504cUJ79uxRz5495XA4tHr1amVkZOjee+9VUVFRmesdOXJECQkJ+ve//61Vq1bJy8tLf/3rX1VSUiJJmjFjhj744AMtXrxYO3bs0FtvvaXmzZtLkt577z1Nnz5dc+fO1c6dO7Vs2TJ16tSpqqbsltq1a6t27dpatmyZCgsLSy03xuimm25Sbm6uVqxYoYyMDHXr1k29evXSvn371LBhQ73xxhsaP368tmzZosOHD+vvf/+74uPjFRMT44EZVZy0tDS1bdtWbdu21d///nfNmzfP+YXAv/zyiwYOHKhbb71VWVlZuv/++5WUlOSy/tatW9WnTx/ddttt+vbbb5WWlqYvv/xSDzzwgCemc97Otm+U57HHHtMjjzyizMxMRUVF6ZZbbtHevXslnTxi9P333+u777474xg//vijFi9erA8//FCffPKJsrKyNGrUqAuaT2U79Z5z/PhxTZo0Sd98842WLVumXbt2adiwYaX6P/7440pOTtb27dvVuXNnJSYmasqUKXr66ae1bds2LVy4sNT3KiYlJenRRx9VVlaW2rRpo7/97W/lvpfVBF5eXpoxY4a+++47vfnmm1q9erUef/xxlz5Hjx5VcnKyXnvtNX3//fe69NJLdc8992j9+vV655139O233+qOO+7QjTfeqJ07d3poJv9n0qRJGjJkiLKystSuXTvddddduv/++5WYmKgtW7ZIUqn3gLPt74cOHdLQoUO1bt06ffXVV2rdurX69eunQ4cOuYwzbtw4DRgwQFu3btW9997rsuzgwYOKiYnR8ePHtWrVKtWrV0+vvvqqkpKS9Oyzz2r79u2aPHmynn76ab355puSTv4+vPnmm9W2bVtlZGRo/PjxevTRR93bMOcVl3DOTk/lmzZtMvXr1zeDBg0yiYmJpkWLFub48ePntO7p8vLyjCSzdetWY4wxDz74oLn++utNSUlJqb5Tp041bdq0Kfe1qqv33nvPXHLJJcbhcJioqCiTmJhovvnmG2OMMatWrTKBgYHm2LFjLuu0atXKzJ071/k8Pj7etGnTxtx9992mY8eO5o8//qjSOVSGqKgok5KSYowx5sSJE6ZBgwYmPT3dGGPME088YTp27OjSPykpyeWvrcGDB5v77rvPpc+6deuMl5dXjdk+Z9o3jCn7CNBzzz3nXH7ixAnTtGlTM2XKFGPMyaNq/fr1M5JMaGioiY2NNa+//rrL/jVu3Djj7e1tdu/e7Wz7+OOPjZeXl8nJyankGZ+bM73nnG7z5s1GkvPIxqm/ypctW+bsU1BQYOx2u3n11VfLfL1T2/a1115ztn3//fdGktm+fXsFzaryDB061Hh7e5uAgADnY+DAgaX6LV682NSvX9/5fN68eUaS84izMcb8+OOPxmazmT179ris26tXL5OYmFh5kzBlzyMgIMBMnDjRGHPy/8NTTz3l7L9x40Yjybz++uvOtkWLFhmHw+F87s7+XlRUZOrUqWM+/PBDZ5skM2bMGJd+p/a1H374wVx55ZXmtttuM4WFhc7lISEhZuHChS7rTJo0yURGRhpjjJk7d66pV6+eOXLkiHP57NmzOQJU3Xz00UeqXbu2HA6HIiMj1bNnT82cOVNZWVnq0aOH8wtcz+ann37SXXfdpZYtWyowMFAtWrSQJOfXhAwbNkxZWVlq27atRo8erU8//dS57h133KE//vhDLVu21IgRI7R06dIa8dfZ7bffrt9++00ffPCB+vTpozVr1qhbt25KTU1VRkaGDh8+rPr16zuPCNSuXVu7du3STz/95BzjhRdeUFFRkRYvXqy3335bDofDgzO6cDt27NDmzZt15513SpJq1aql2NhYvfHGG87lV111lcs6V199tcvzjIwMpaamumy3Pn36qKSkRLt27aqaiVygM+0b5YmMjHT+XKtWLYWHh2v79u2SpICAAP3P//yPfvzxRz311FOqXbu2HnnkEV199dU6evSoc71mzZqpadOmLmOWlJRox44dFT9JN5X3npOZmakBAwYoNDRUderU0bXXXitJLl81JEnh4eHOn7dv367CwkL16tXrjK/ZuXNn58+NGzeWdPJC9ZrguuuuU1ZWlvMxY8YMff755+rdu7cuu+wy1alTR0OGDNHevXtdLib39fV1mffXX38tY4zatGnj8n/riy++cHlPqqp5nH605s+1njqC9+czAcHBwTp27JgKCgqcbWfb3/Py8jRy5Ei1adNGQUFBCgoK0uHDh8+4T/3ZDTfcoJYtW2rx4sXy9fWVJP3+++/avXu34uLiXLbjM88849yO27dv15VXXil/f3+X2txxcV/h5mHXXXedZs+eLR8fHzVp0sQZePz8/M5rnP79+yskJESvvvqqmjRpopKSEnXs2FHHjx+XJHXr1k27du3Sxx9/rM8++0yDBg3SDTfcoPfee08hISHasWOH0tPT9dlnnyk+Pl7/+te/9MUXX5xzAPMUh8Oh3r17q3fv3ho7dqyGDx+ucePGKT4+Xo0bN9aaNWtKrVO3bl3nzz///LN+++03lZSU6Ndff3V5E6iJXn/9dRUVFemyyy5zthlj5OPjo/3798sYI5vN5rKOOe2bbkpKSnT//fdr9OjRpcavSRdTl7dvlHVapzynb6tWrVqpVatWGj58uJKSktSmTRulpaXpnnvuOeP6p4/jSWW95xw5ckQxMTGKiYnRW2+9pYYNGyo7O1t9+vRxvoecEhAQ4Pz5XN+n/vw+cmpbnDo9X90FBATo8ssvdz7/9ddf1a9fP40cOVKTJk1SvXr19OWXXyouLs7lAl4/Pz+Xf/eSkhJ5e3srIyND3t7eLq9Ru3btKp/H6cr6Nzrff7fT9/dhw4bp999/V0pKikJDQ2W32xUZGXnGferPbrrpJi1ZskTbtm1zhrFTr//qq6+W+v7OU9v19Pe0C0EAqkTl7ZSdO3fWm2++qRMnTpw1hOzdu1fbt2/X3Llz1aNHD0kq85vtAwMDFRsbq9jYWA0cOFA33nij9u3bp3r16snPz0+33HKLbrnlFo0aNUrt2rXT1q1b1a1bt4qZaBXp0KGDli1bpm7duik3N1e1atVyXut0uuPHj+vuu+9WbGys2rVrp7i4OG3durXU9Qs1RVFRkebPn6+pU6eWuo7p9ttv19tvv6127dppxYoVLstOnd8/pVu3bvr+++/P+GZZE53aN8rz1VdfqWfPnpJObsuMjIwzXvfUvHlz+fv7u/zVn52drd9++01NmjSRJG3cuFFeXl5q06ZNxUyiApT1nvPDDz8oPz9fzz33nEJCQiSV3i/K0rp1a/n5+WnVqlUaPnx4pdRb3WzZskVFRUWaOnWq81NdixcvPut6Xbt2VXFxsfLy8pzv0zXd2fb3devWadasWerXr58kaffu3crPzz/n8Z977jnVrl1bvXr10po1a9ShQwcFBwfrsssu088//6y77767zPU6dOigBQsW6I8//nCG9K+++sqtORKAPOCBBx7QzJkzdeeddyoxMVFBQUH66quvdPXVV6tt27YufS+55BLVr19fr7zyiho3bqzs7Gw9+eSTLn2mT5+uxo0bq0uXLvLy8tK7776rRo0aqW7dukpNTVVxcbG6d+8uf39/LViwQH5+fgoNDa3KKZ+XvXv36o477tC9996rzp07q06dOtqyZYuef/55DRgwQDfccIMiIyN16623asqUKWrbtq1+++03rVixQrfeeqvCw8OVlJSkgwcPasaMGapdu7Y+/vhjxcXF6aOPPvL09Nzy0Ucfaf/+/YqLi1NQUJDLsoEDB+r111/X+++/r2nTpumJJ55QXFycsrKynKeFTv3V9sQTTygiIkKjRo3SiBEjFBAQoO3btys9PV0zZ86s6mmdt7PtG+V5+eWX1bp1a7Vv317Tp0/X/v37nRdkjh8/XkePHlW/fv0UGhqqAwcOaMaMGTpx4oR69+7tHMPhcGjo0KF64YUXVFBQoNGjR2vQoEHn/bH7qtasWTP5+vpq5syZGjlypL777jtNmjTprOs5HA498cQTevzxx+Xr66vo6Gj9/vvv+v777xUXF1cFlVe9Vq1aqaioSDNnzlT//v21fv16zZkz56zrtWnTRnfffbeGDBmiqVOnqmvXrsrPz9fq1avVqVMnZ0ioLIWFhcrNzXVpq1Wrlho0aOD2mGfb3y+//HItWLBA4eHhKigo0GOPPXbeZzdeeOEFFRcX6/rrr9eaNWvUrl07jR8/XqNHj1ZgYKD69u2rwsJCbdmyRfv371dCQoLuuusuJSUlKS4uTk899ZR++eUXvfDCC+5N8ryuGMI5O9uFzN98842JiYkx/v7+pk6dOqZHjx7mp59+KnPd9PR00759e2O3203nzp3NmjVrXC70fOWVV0yXLl1MQECACQwMNL169TJff/21McaYpUuXmu7du5vAwEATEBBgIiIizGeffVZZ064Qx44dM08++aTp1q2bCQoKMv7+/qZt27bmqaeeMkePHjXGnLxA88EHHzRNmjQxPj4+JiQkxNx9990mOzvbfP7556ZWrVpm3bp1zjF//fVXExQUZGbNmuWpaV2Qm2++2fTr16/MZRkZGUaSycjIcH4M3m63m2uvvdZ5ceCfL3DevHmz6d27t6ldu7YJCAgwnTt3drllQHV2LvuGyrgIeuHChaZ79+7G19fXtG/f3qxatco55urVq83tt9/uvFVEcHCwufHGG132n1MfC541a5Zp0qSJcTgc5rbbbjP79u2r0vmfyZnecxYuXGiaN29u7Ha7iYyMNB988IHLRaOnfzT5lOLiYvPMM8+Y0NBQ4+PjY5o1a+a8xcapbfvnC09P3aagKj7+faHK217Tpk0zjRs3Nn5+fqZPnz5m/vz5Ltvm1MfgT3f8+HEzduxY07x5c+Pj42MaNWpk/vrXv5pvv/220uchqdSjbdu2xhjX/w/GlP3vdvq//7ns719//bUJDw83drvdtG7d2rz77rsmNDTUTJ8+3dnn9Ncu67WMOflBnsaNG5sdO3YYY4x5++23TZcuXYyvr6+55JJLTM+ePc3777/v7L9x40Zz5ZVXGl9fX9OlSxezZMkSty6Ctv3/IgFchJ599lnNmTNHu3fv9nQpNdr48eO1bNkyvvYBuIhwCgy4iMyaNUtXXXWV6tevr/Xr1+tf//pXjbnHDwBUJQIQcBHZuXOnnnnmGe3bt0/NmjXTI488osTERE+XBQDVDqfAAACA5XAjRAAAYDkEIAAAYDkEIAAAYDkEIAAAYDkEIAAAYDkEIAAAYDkEIADVyrBhw2Sz2Uo9fvzxxwseOzU1VXXr1r3wIgHUeNwIEUC1c+ONN2revHkubQ0bNvRQNWU7ceKEfHx8PF0GADdxBAhAtWO329WoUSOXh7e3tz788EOFhYXJ4XCoZcuWmjBhgoqKipzrTZs2TZ06dVJAQIBCQkIUHx+vw4cPS5LWrFmje+65RwcPHnQeVRo/frwkyWazadmyZS411K1bV6mpqZKkX375RTabTYsXL9a1114rh8Oht956S5I0b948tW/fXg6HQ+3atdOsWbMqffsAuHAcAQJQI6xcuVJ///vfNWPGDPXo0UM//fST7rvvPknSuHHjJEleXl6aMWOGmjdvrl27dik+Pl6PP/64Zs2apaioKKWkpGjs2LHasWOHJKl27drnVcMTTzyhqVOnat68ebLb7Xr11Vc1btw4vfTSS+ratasyMzM1YsQIBQQEaOjQoRW7AQBUrPP67ngAqGRDhw413t7eJiAgwPkYOHCg6dGjh5k8ebJL3wULFpjGjRuXO9bixYtN/fr1nc/nzZtngoKCSvWTZJYuXerSFhQUZObNm2eMMWbXrl1GkklJSXHpExISYhYuXOjSNmnSJBMZGXkOMwXgSRwBAlDtXHfddZo9e7bzeUBAgC6//HL9+9//1rPPPutsLy4u1rFjx3T06FH5+/vr888/1+TJk7Vt2zYVFBSoqKhIx44d05EjRxQQEHDBdYWHhzt//v3337V7927FxcVpxIgRzvaioiIFBQVd8GsBqFwEIADVzqnA82clJSWaMGGCbrvttlL9HQ6Hfv31V/Xr108jR47UpEmTVK9ePX355ZeKi4vTiRMnzvh6NptN5rTvhS5rnT+HqJKSEknSq6++qu7du7v08/b2PvMEAXgcAQhAjdCtWzft2LGjVDA6ZcuWLSoqKtLUqVPl5XXy8x2LFy926ePr66vi4uJS6zZs2FA5OTnO5zt37tTRo0fPWE9wcLAuu+wy/fzzz7r77rvPdzoAPIwABKBGGDt2rG6++WaFhITojjvukJeXl7799ltt3bpVzzzzjFq1aqWioiLNnDlT/fv31/r16zVnzhyXMZo3b67Dhw9r1apVuvLKK+Xv7y9/f39df/31eumllxQREaGSkhI98cQT5/QR9/Hjx2v06NEKDAxU3759VVhYqC1btmj//v1KSEiorE0BoALwMXgANUKfPn300UcfKT09XVdddZUiIiI0bdo0hYaGSpK6dOmiadOmacqUKerYsaPefvttJScnu4wRFRWlkSNHKjY2Vg0bNtTzzz8vSZo6dapCQkLUs2dP3XXXXXr00Ufl7+9/1pqGDx+u1157TampqerUqZOuueYapaamqkWLFhW/AQBUKJs5/cQ3AADARY4jQAAAwHIIQAAAwHIIQAAAwHIIQAAAwHIIQAAAwHIIQAAAwHIIQAAAwHIIQAAAwHIIQAAAwHIIQAAAwHIIQAAAwHL+H4pvHsX6pCbbAAAAAElFTkSuQmCC",
      "text/plain": [
       "<Figure size 640x480 with 1 Axes>"
      ]
     },
     "metadata": {},
     "output_type": "display_data"
    }
   ],
   "source": [
    "feature_importances = pd.DataFrame({\n",
    "    'Feature': features,\n",
    "    'Importance': model.feature_importances_\n",
    "})\n",
    "sns.barplot(feature_importances, x = 'Feature', y = 'Importance')"
   ]
  },
  {
   "cell_type": "code",
   "execution_count": 14,
   "id": "495c9d5a-9822-4379-9a70-6d554ec30f1b",
   "metadata": {},
   "outputs": [
    {
     "name": "stdout",
     "output_type": "stream",
     "text": [
      "Accuracy:  0.7988826815642458\n",
      "Confusion_Matrix [[87 18]\n",
      " [18 56]]\n",
      "Classification_Report               precision    recall  f1-score   support\n",
      "\n",
      "           0       0.83      0.83      0.83       105\n",
      "           1       0.76      0.76      0.76        74\n",
      "\n",
      "    accuracy                           0.80       179\n",
      "   macro avg       0.79      0.79      0.79       179\n",
      "weighted avg       0.80      0.80      0.80       179\n",
      "\n"
     ]
    }
   ],
   "source": [
    "#Let's try different models for predicting survival rate\n",
    "\n",
    "from sklearn.neighbors import KNeighborsClassifier\n",
    "# Train the model (K-Nearest Neighbor)\n",
    "model1 = KNeighborsClassifier(n_neighbors=3)\n",
    "model1.fit(X_train, Y_train)\n",
    "\n",
    "y_pred_K = model1.predict(X_test)\n",
    "KNN_acc = accuracy_score(Y_test, y_pred_K)\n",
    "print(\"Accuracy: \", KNN_acc)\n",
    "print(\"Confusion_Matrix\", confusion_matrix(Y_test, y_pred_K))\n",
    "print(\"Classification_Report\", classification_report(Y_test, y_pred_K))"
   ]
  },
  {
   "cell_type": "code",
   "execution_count": 15,
   "id": "3b137b9c-9004-4d5f-ba36-e5451497cf32",
   "metadata": {},
   "outputs": [
    {
     "name": "stdout",
     "output_type": "stream",
     "text": [
      "Accuracy:  0.8100558659